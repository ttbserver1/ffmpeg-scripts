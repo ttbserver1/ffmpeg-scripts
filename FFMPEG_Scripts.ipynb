{
  "nbformat": 4,
  "nbformat_minor": 0,
  "metadata": {
    "colab": {
      "name": "FFMPEG Scripts.ipynb",
      "provenance": [],
      "collapsed_sections": [],
      "machine_shape": "hm",
      "include_colab_link": true
    },
    "kernelspec": {
      "name": "python3",
      "display_name": "Python 3"
    }
  },
  "cells": [
    {
      "cell_type": "markdown",
      "metadata": {
        "id": "view-in-github",
        "colab_type": "text"
      },
      "source": [
        "<a href=\"https://colab.research.google.com/github/ttbserver1/ffmpeg-scripts/blob/main/FFMPEG_Scripts.ipynb\" target=\"_parent\"><img src=\"https://colab.research.google.com/assets/colab-badge.svg\" alt=\"Open In Colab\"/></a>"
      ]
    },
    {
      "cell_type": "markdown",
      "metadata": {
        "id": "qwx2jg7xuln_"
      },
      "source": [
        "# ✦ *Colab Still Alive Console Script:*\n",
        "<p><font size=2px ><font color=\"red\"> Tip - Set a javascript interval to click on the connect button every 60 seconds. Open developer-settings (in your web-browser) with Ctrl+Shift+I then click on console tab and type this on the console prompt. (for mac press Option+Command+I)</font></p><b>Copy script in hidden cell and paste at your browser console !!! DO NOT CLOSE YOUR BROWSER IN ORDER TO STILL RUNNING SCRIPT</b>"
      ]
    },
    {
      "cell_type": "markdown",
      "metadata": {
        "id": "0OBvHtQmuo_h"
      },
      "source": [
        "<code>function ClickConnect(){\n",
        "console.log(\"Working\"); \n",
        "document.querySelector(\"colab-connect-button\").click() \n",
        "}setInterval(ClickConnect,6000)</code>"
      ]
    },
    {
      "cell_type": "markdown",
      "metadata": {
        "id": "YRPaM-FhRIXi"
      },
      "source": [
        "# <img src=\"https://upload.wikimedia.org/wikipedia/commons/thumb/d/da/Google_Drive_logo.png/600px-Google_Drive_logo.png\" height=30px>      ___Mount / Unmount Gdrive!___"
      ]
    },
    {
      "cell_type": "code",
      "metadata": {
        "id": "U2avD1zRIlWA",
        "cellView": "form"
      },
      "source": [
        "#@markdown <br><center><img src='https://upload.wikimedia.org/wikipedia/commons/thumb/d/da/Google_Drive_logo.png/600px-Google_Drive_logo.png' height=\"50\" alt=\"Gdrive-logo\"/></center>\n",
        "#@markdown <center><h3>Mount GDrive to /content/drive</h3></center><br>\n",
        "MODE = \"MOUNT\" #@param [\"MOUNT\", \"UNMOUNT\"]\n",
        "#Mount your Gdrive! \n",
        "from google.colab import drive\n",
        "drive.mount._DEBUG = False\n",
        "if MODE == \"MOUNT\":\n",
        "  drive.mount('/content/drive', force_remount=True)\n",
        "elif MODE == \"UNMOUNT\":\n",
        "  try:\n",
        "    drive.flush_and_unmount()\n",
        "  except ValueError:\n",
        "    pass\n",
        "  get_ipython().system_raw(\"rm -rf /root/.config/Google/DriveFS\")"
      ],
      "execution_count": null,
      "outputs": []
    },
    {
      "cell_type": "markdown",
      "metadata": {
        "id": "ercDPZ6CIlVz"
      },
      "source": [
        "# <img src='https://www.vozidea.com/wp-content/uploads/2018/05/ffmpeg-logo-grande.png ' height=\"57\" alt=\"RcloneLab\"/>"
      ]
    },
    {
      "cell_type": "code",
      "metadata": {
        "id": "wv0LMpvJCoSz",
        "cellView": "form"
      },
      "source": [
        "#@markdown <br><center><img src='https://raw.githubusercontent.com/ttbserver1/FFmpeg-for-GDrive/master/res/ffmpeg.png' height=\"50\" alt=\"Gdrive-logo\"/></center>\n",
        "#@markdown <center><h3>Upgrade FFmpeg to v4.2.2</h3></center><br>\n",
        "from IPython.display import clear_output\n",
        "import os, urllib.request\n",
        "HOME = os.path.expanduser(\"~\")\n",
        "pathDoneCMD = f'{HOME}/doneCMD.sh'\n",
        "if not os.path.exists(f\"{HOME}/.ipython/ttmg.py\"):\n",
        "    hCode = \"https://raw.githubusercontent.com/ttbserver1/FFmpeg-for-GDrive/master/ttmg.py\"\n",
        "    urllib.request.urlretrieve(hCode, f\"{HOME}/.ipython/ttmg.py\")\n",
        "\n",
        "from ttmg import (\n",
        "    loadingAn,\n",
        "    textAn,\n",
        ")\n",
        "\n",
        "loadingAn(name=\"lds\")\n",
        "textAn(\"Installing Dependencies...\", ty='twg')\n",
        "os.system('pip install git+git://github.com/AWConant/jikanpy.git')\n",
        "os.system('add-apt-repository -y ppa:jonathonf/ffmpeg-4')\n",
        "os.system('apt-get update')\n",
        "os.system('apt install mediainfo')\n",
        "os.system('apt-get install ffmpeg')\n",
        "os.system('apt-get install mkvtoolnix')\n",
        "os.system('pip install vcsi')\n",
        "clear_output()\n",
        "print('Installation finished.')"
      ],
      "execution_count": null,
      "outputs": []
    },
    {
      "cell_type": "code",
      "metadata": {
        "cellView": "form",
        "id": "CfhZw9ptquNA"
      },
      "source": [
        "#@markdown <h3>⬅️ Click Here to Check GPU</h3>\n",
        "!nvidia-smi -L"
      ],
      "execution_count": null,
      "outputs": []
    },
    {
      "cell_type": "markdown",
      "metadata": {
        "id": "5HtYKHfA-Bcm"
      },
      "source": [
        "# ***Audio + Subtitle Track Swap With attachments***"
      ]
    },
    {
      "cell_type": "code",
      "metadata": {
        "cellView": "form",
        "id": "ETPvO_Wrwx1j"
      },
      "source": [
        "#@markdown <h3><b>Full Folder Encode :</h3>\n",
        "\n",
        "import os, sys, re\n",
        "\n",
        "input_folder= '' #@param {type:\"string\"}\n",
        "output_folder= '/ffmpeg swap' #@param {type:\"string\"}\n",
        "encode_setting = \"Audio Sub swap\"\n",
        "output_file_type = 'mkv'\n",
        "my_suffixes = (\".mp4\", \".mov\", \".mkv\", \".avi\", \".ts\", \".flv\", \".webm\", \".wmv\", \".mpg\", \".m4v\", \".f4v\", \".m2ts\", \".mpeg\", \".3gp\", \".MP4\", \".MOV\", \".MKV\", \".AVI\", \".TS\", \".FLV\", \".WEBM\", \".WMV\", \".MPG\", \".M4V\", \".F4V\", \".M2TS\", \".MPEG\", \".3GP\")\n",
        "\n",
        "from pathlib import Path\n",
        "Path(output_folder).mkdir(parents=True, exist_ok=True)\n",
        "\n",
        "if encode_setting == 'Audio Sub swap':\n",
        " for filename in os.listdir(input_folder):\n",
        "    if (filename.endswith(my_suffixes)):\n",
        "        cmd = !ffmpeg -i \"$input_folder/{filename}\" -map 0:v:0 -map 0:a:1 -map 0:a:0 -c copy -map 0:s:1 -map 0:s:0 -disposition:s:0 default -map 0:t \"$output_folder/{filename.rpartition('.')[0]}.$output_file_type\"\n"
      ],
      "execution_count": null,
      "outputs": []
    },
    {
      "cell_type": "markdown",
      "metadata": {
        "id": "20WP11WG_7S8"
      },
      "source": [
        "# ***Remove Audio***"
      ]
    },
    {
      "cell_type": "code",
      "metadata": {
        "id": "3Qg03Pn6AIZv",
        "cellView": "form"
      },
      "source": [
        "#@markdown <h3><b>Full Folder Encode :</h3>\n",
        "\n",
        "import os, sys, re\n",
        "\n",
        "input_folder= '' #@param {type:\"string\"}\n",
        "output_folder= '/ffmpeg' #@param {type:\"string\"}\n",
        "encode_setting = \"Russian\" #@param [\"Russian\", \"hindi_telugu\", \"Japanese\"]\n",
        "output_file_type = 'mkv'\n",
        "my_suffixes = (\".mp4\", \".mov\", \".mkv\", \".avi\", \".ts\", \".flv\", \".webm\", \".wmv\", \".mpg\", \".m4v\", \".f4v\", \".m2ts\", \".mpeg\", \".3gp\", \".MP4\", \".MOV\", \".MKV\", \".AVI\", \".TS\", \".FLV\", \".WEBM\", \".WMV\", \".MPG\", \".M4V\", \".F4V\", \".M2TS\", \".MPEG\", \".3GP\")\n",
        "\n",
        "from pathlib import Path\n",
        "Path(output_folder).mkdir(parents=True, exist_ok=True)\n",
        "\n",
        "if encode_setting == 'Russian':\n",
        " for filename in os.listdir(input_folder):\n",
        "    if (filename.endswith(my_suffixes)):\n",
        "        cmd = !ffmpeg -i \"$input_folder/{filename}\" -map 0 -map -0:a:m:language:rus -c:v copy -c:a copy \"$output_folder/{filename.rpartition('.')[0]}.$output_file_type\"\n",
        "        \n",
        "if encode_setting == 'hindi_telugu':\n",
        " for filename in os.listdir(input_folder):\n",
        "    if (filename.endswith(my_suffixes)):\n",
        "        cmd = !ffmpeg -i \"$input_folder/{filename}\" -map 0 -map -0:a:m:language:hin -map -0:a:m:language:tel -c:v copy -c:a copy \"$output_folder/{filename.rpartition('.')[0]}.$output_file_type\" \n",
        "if encode_setting == 'Japanese':\n",
        " for filename in os.listdir(input_folder):\n",
        "    if (filename.endswith(my_suffixes)):\n",
        "        cmd = !ffmpeg -i \"$input_folder/{filename}\" -map 0 -map -0:a:m:language:jpn -c:v copy -c:a copy \"$output_folder/{filename.rpartition('.')[0]}.$output_file_type\""
      ],
      "execution_count": null,
      "outputs": []
    },
    {
      "cell_type": "markdown",
      "metadata": {
        "id": "b-WrvLw4ydI8"
      },
      "source": [
        "# ***Custon code***"
      ]
    },
    {
      "cell_type": "code",
      "metadata": {
        "cellView": "form",
        "id": "TQbGJ4EOxkZ4"
      },
      "source": [
        "#@markdown <h3><b>Full Folder Encode :</h3>\n",
        "\n",
        "import os, sys, re\n",
        "\n",
        "input_folder= '' #@param {type:\"string\"}\n",
        "output_folder= '/ffmpeg' #@param {type:\"string\"}\n",
        "encode_setting = \"\" #@param {type:\"string\"}\n",
        "output_file_type = 'mkv'\n",
        "my_suffixes = (\".mp4\", \".mov\", \".mkv\", \".avi\", \".ts\", \".flv\", \".webm\", \".wmv\", \".mpg\", \".m4v\", \".f4v\", \".m2ts\", \".mpeg\", \".3gp\", \".MP4\", \".MOV\", \".MKV\", \".AVI\", \".TS\", \".FLV\", \".WEBM\", \".WMV\", \".MPG\", \".M4V\", \".F4V\", \".M2TS\", \".MPEG\", \".3GP\")\n",
        "\n",
        "from pathlib import Path\n",
        "Path(output_folder).mkdir(parents=True, exist_ok=True)\n",
        "\n",
        "if encode_setting == 'Russian':\n",
        " for filename in os.listdir(input_folder):\n",
        "    if (filename.endswith(my_suffixes)):\n",
        "        cmd = !ffmpeg -i \"$input_folder/{filename}\" \"$encode_setting\" \"$output_folder/{filename.rpartition('.')[0]}.$output_file_type\" "
      ],
      "execution_count": null,
      "outputs": []
    },
    {
      "cell_type": "markdown",
      "metadata": {
        "id": "EBGzE0jf_Dn-"
      },
      "source": [
        "# ***Media Info*** "
      ]
    },
    {
      "cell_type": "code",
      "metadata": {
        "cellView": "form",
        "id": "RTSh2QdU-989"
      },
      "source": [
        "path = \"\" #@param {type:\"string\"}\n",
        "save_txt = False #@param {type:\"boolean\"}\n",
        "import os, uuid, re, IPython\n",
        "import ipywidgets as widgets\n",
        "import time\n",
        "\n",
        "from glob import glob\n",
        "from IPython.display import HTML, clear_output\n",
        "from google.colab import output, drive\n",
        "\n",
        "def mediainfo():\n",
        "  display(HTML(\"<br>\"))\n",
        "#   print(path.split(\"/\")[::-1][0])\n",
        "  display(HTML(\"<br>\"))\n",
        "#   media = !mediainfo \"$path\"\n",
        "#   media = \"\\n\".join(media).replace(os.path.dirname(path)+\"/\", \"\")\n",
        "  get_ipython().system_raw(\"\"\"mediainfo --LogFile=\"/root/.nfo\" \"$path\" \"\"\")\n",
        "  with open('/root/.nfo', 'r') as file:\n",
        "    media = file.read()\n",
        "    media = media.replace(os.path.dirname(path)+\"/\", \"\")\n",
        "  print(media)\n",
        "  get_ipython().system_raw(\"rm -f '/root/.nfo'\")\n",
        "  \n",
        "  if save_txt:\n",
        "    txt = path.rpartition('.')[0] + \".txt\"\n",
        "    if os.path.exists(txt):\n",
        "      get_ipython().system_raw(\"rm -f '$txt'\")\n",
        "    !curl -s https://pastebin.com/raw/TV8Byydt -o \"$txt\"\n",
        "    with open(txt, 'a+') as file:\n",
        "      file.write(\"\\n\\n\")\n",
        "      file.write(media)\n",
        "\n",
        "while not os.path.exists(\"/content/drive\"):\n",
        "  try:\n",
        "    drive.mount(\"/content/drive\")\n",
        "    clear_output(wait=True)\n",
        "  except:\n",
        "    clear_output()\n",
        "    \n",
        "if not os.path.exists(\"/usr/bin/mediainfo\"):\n",
        "  get_ipython().system_raw(\"apt-get install mediainfo\")\n",
        "  \n",
        "mediainfo()"
      ],
      "execution_count": null,
      "outputs": []
    }
  ]
}